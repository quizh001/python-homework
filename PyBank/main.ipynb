{
 "cells": [
  {
   "cell_type": "code",
   "execution_count": 18,
   "id": "e49253d9-70b4-43f1-a228-638c5bf0f5e5",
   "metadata": {},
   "outputs": [
    {
     "name": "stdout",
     "output_type": "stream",
     "text": [
      "Current Working Directory: /Users/wilsonquizhpi/python-homework/PyBank\n"
     ]
    }
   ],
   "source": [
    "# @TODO: Import and csv library\n",
    "from pathlib import Path\n",
    "\n",
    "# @TODO: Check the current directory where the Python program is executing from\n",
    "\n",
    "# Check the current directory where the Python program is executing from\n",
    "print(f\"Current Working Directory: {Path.cwd()}\")"
   ]
  },
  {
   "cell_type": "code",
   "execution_count": 25,
   "id": "e73fd894-a9ac-40fe-be30-0266c0e62898",
   "metadata": {},
   "outputs": [],
   "source": [
    "# set the file path\n",
    "file = Path('../Resources/customer_traffic.txt') "
   ]
  },
  {
   "cell_type": "code",
   "execution_count": 26,
   "id": "123a433f-0c40-4527-83a5-efd5bc366953",
   "metadata": {},
   "outputs": [
    {
     "ename": "FileNotFoundError",
     "evalue": "[Errno 2] No such file or directory: '../Resources/customer_traffic.txt'",
     "output_type": "error",
     "traceback": [
      "\u001b[0;31m---------------------------------------------------------------------------\u001b[0m",
      "\u001b[0;31mFileNotFoundError\u001b[0m                         Traceback (most recent call last)",
      "\u001b[0;32m/var/folders/yw/s7_xdw_d6p9231wbk6jwlsvm0000gn/T/ipykernel_7231/2464354371.py\u001b[0m in \u001b[0;36m<module>\u001b[0;34m\u001b[0m\n\u001b[1;32m      8\u001b[0m \u001b[0;31m# Open the file in \"read\" mode ('r') and\u001b[0m\u001b[0;34m\u001b[0m\u001b[0;34m\u001b[0m\u001b[0m\n\u001b[1;32m      9\u001b[0m \u001b[0;31m# store the contents in the variable 'file'\u001b[0m\u001b[0;34m\u001b[0m\u001b[0;34m\u001b[0m\u001b[0m\n\u001b[0;32m---> 10\u001b[0;31m \u001b[0;32mwith\u001b[0m \u001b[0mopen\u001b[0m\u001b[0;34m(\u001b[0m\u001b[0mfile\u001b[0m\u001b[0;34m,\u001b[0m \u001b[0;34m'r'\u001b[0m\u001b[0;34m)\u001b[0m \u001b[0;32mas\u001b[0m \u001b[0mfile\u001b[0m\u001b[0;34m:\u001b[0m\u001b[0;34m\u001b[0m\u001b[0;34m\u001b[0m\u001b[0m\n\u001b[0m\u001b[1;32m     11\u001b[0m \u001b[0;34m\u001b[0m\u001b[0m\n\u001b[1;32m     12\u001b[0m     \u001b[0;31m# @TODO: Parse the file line by line\u001b[0m\u001b[0;34m\u001b[0m\u001b[0;34m\u001b[0m\u001b[0m\n",
      "\u001b[0;31mFileNotFoundError\u001b[0m: [Errno 2] No such file or directory: '../Resources/customer_traffic.txt'"
     ]
    }
   ],
   "source": [
    "# Initialize variables\n",
    "total_Months = 0\n",
    "total_PnL = 0\n",
    "\n",
    "\n",
    "# @TODO: Open the file in \"read\" mode ('r') and store the contents in the variable 'file'\n",
    "\n",
    "# Open the file in \"read\" mode ('r') and\n",
    "# store the contents in the variable 'file'\n",
    "with open(file, 'r') as file:\n",
    "    \n",
    "    # @TODO: Parse the file line by line   \n",
    "    # Parse the file line by line\n",
    "    for line in file:\n",
    "\n",
    "        # @TODO: Convert the number in the text file from string to int (allows for numerical calculations)    \n",
    "        # Convert the number in the text file from string to int\n",
    "        number = int(line)\n",
    "        \n",
    "        # @TODO: Sum the total and count of the numbers in the text file\n",
    "        # Sum the total and count of the numbers in the text file\n",
    "        total_Months += number\n",
    "        total_PnL += 1"
   ]
  },
  {
   "cell_type": "code",
   "execution_count": 23,
   "id": "afb4f35b-3db5-43a7-8c78-d8cf73b8a473",
   "metadata": {},
   "outputs": [
    {
     "name": "stdout",
     "output_type": "stream",
     "text": [
      "total_Months: 0\n",
      "total_PnL: 0\n",
      "-----------------------\n"
     ]
    },
    {
     "ename": "ZeroDivisionError",
     "evalue": "division by zero",
     "output_type": "error",
     "traceback": [
      "\u001b[0;31m---------------------------------------------------------------------------\u001b[0m",
      "\u001b[0;31mZeroDivisionError\u001b[0m                         Traceback (most recent call last)",
      "\u001b[0;32m/var/folders/yw/s7_xdw_d6p9231wbk6jwlsvm0000gn/T/ipykernel_7231/431216643.py\u001b[0m in \u001b[0;36m<module>\u001b[0;34m\u001b[0m\n\u001b[1;32m      8\u001b[0m \u001b[0;34m\u001b[0m\u001b[0m\n\u001b[1;32m      9\u001b[0m \u001b[0;31m# Calculate the average\u001b[0m\u001b[0;34m\u001b[0m\u001b[0;34m\u001b[0m\u001b[0m\n\u001b[0;32m---> 10\u001b[0;31m \u001b[0mdaily_average\u001b[0m \u001b[0;34m=\u001b[0m \u001b[0mtotal_PnL\u001b[0m \u001b[0;34m/\u001b[0m \u001b[0mtotal_Months\u001b[0m\u001b[0;34m\u001b[0m\u001b[0;34m\u001b[0m\u001b[0m\n\u001b[0m\u001b[1;32m     11\u001b[0m \u001b[0mprint\u001b[0m\u001b[0;34m(\u001b[0m\u001b[0;34mf\"daily_average: {daily_average}\"\u001b[0m\u001b[0;34m)\u001b[0m\u001b[0;34m\u001b[0m\u001b[0;34m\u001b[0m\u001b[0m\n",
      "\u001b[0;31mZeroDivisionError\u001b[0m: division by zero"
     ]
    }
   ],
   "source": [
    "# @TODO: Print out customer_total and day_count\n",
    "\n",
    "# Print out customer_total and day_count\n",
    "print(f\"total_Months: {total_Months}\")\n",
    "print(f\"total_PnL: {total_PnL}\")\n",
    "print(\"-----------------------\")\n",
    "# @TODO: Calculate the average\n",
    "\n",
    "# Calculate the average\n",
    "daily_average = total_PnL / total_Months\n",
    "print(f\"daily_average: {daily_average}\")"
   ]
  },
  {
   "cell_type": "code",
   "execution_count": null,
   "id": "8649f2bc-52d8-4dc6-ab83-56cb96a9b012",
   "metadata": {},
   "outputs": [],
   "source": []
  }
 ],
 "metadata": {
  "kernelspec": {
   "display_name": "Python 3 (ipykernel)",
   "language": "python",
   "name": "python3"
  },
  "language_info": {
   "codemirror_mode": {
    "name": "ipython",
    "version": 3
   },
   "file_extension": ".py",
   "mimetype": "text/x-python",
   "name": "python",
   "nbconvert_exporter": "python",
   "pygments_lexer": "ipython3",
   "version": "3.9.7"
  }
 },
 "nbformat": 4,
 "nbformat_minor": 5
}
