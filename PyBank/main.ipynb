{
 "cells": [
  {
   "cell_type": "code",
<<<<<<< HEAD
   "execution_count": 3,
   "id": "5baa0954-7bc6-49bd-923b-8871f8d9480d",
   "metadata": {},
   "outputs": [
    {
     "name": "stdout",
     "output_type": "stream",
     "text": [
      "todo bien\n"
     ]
    }
   ],
   "source": [
    "print(\"todo bien\")"
   ]
  },
  {
   "cell_type": "code",
   "execution_count": 5,
   "id": "96a193f5-36c9-4e21-b079-da6bbd585234",
   "metadata": {},
   "outputs": [
    {
     "name": "stdout",
     "output_type": "stream",
     "text": [
      "ya me doy por vencido\n"
     ]
    }
   ],
   "source": [
    "print(\"ya me doy por vencido\")\n",
    "      "
   ]
  },
  {
   "cell_type": "code",
   "execution_count": null,
   "id": "56e325e8-687d-4aad-b009-16d75bc97502",
   "metadata": {},
   "outputs": [],
   "source": []
  },
  {
   "cell_type": "code",
   "execution_count": null,
   "id": "80abf2dc-5cb7-40c0-8680-423fbc14c89a",
   "metadata": {},
   "outputs": [],
   "source": []
=======
   "execution_count": null,
   "id": "3655740f-c86c-4d5e-89cb-dbac48f55efa",
   "metadata": {},
   "outputs": [],
   "source": [
    "Home homework\n",
    "home work"
   ]
>>>>>>> c392ccb6bb03180bae114d7f13e509711822c7b8
  }
 ],
 "metadata": {
  "kernelspec": {
   "display_name": "Python 3 (ipykernel)",
   "language": "python",
   "name": "python3"
  },
  "language_info": {
   "codemirror_mode": {
    "name": "ipython",
    "version": 3
   },
   "file_extension": ".py",
   "mimetype": "text/x-python",
   "name": "python",
   "nbconvert_exporter": "python",
   "pygments_lexer": "ipython3",
   "version": "3.9.7"
  }
 },
 "nbformat": 4,
 "nbformat_minor": 5
}
